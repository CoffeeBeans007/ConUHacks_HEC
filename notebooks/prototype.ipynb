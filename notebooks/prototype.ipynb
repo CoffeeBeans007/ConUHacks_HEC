{
 "cells": [
  {
   "cell_type": "code",
   "execution_count": 2,
   "id": "initial_id",
   "metadata": {
    "collapsed": true,
    "ExecuteTime": {
     "end_time": "2024-01-20T17:34:10.430915Z",
     "start_time": "2024-01-20T17:34:09.178087Z"
    }
   },
   "outputs": [],
   "source": [
    "import pandas as pd"
   ]
  },
  {
   "cell_type": "code",
   "outputs": [
    {
     "data": {
      "text/plain": "                           TimeStamp                TimeStampEpoch  \\\n0      2024-01-05 09:28:00.011058962 2024-01-05 09:28:00.011058962   \n1      2024-01-05 09:28:00.011081372 2024-01-05 09:28:00.011081372   \n2      2024-01-05 09:28:00.011117286 2024-01-05 09:28:00.011117286   \n3      2024-01-05 09:28:00.011125452 2024-01-05 09:28:00.011125452   \n4      2024-01-05 09:28:00.011129285 2024-01-05 09:28:00.011129285   \n...                              ...                           ...   \n209675 2024-01-05 09:31:59.995169747 2024-01-05 09:31:59.995169747   \n209676 2024-01-05 09:31:59.995210138 2024-01-05 09:31:59.995210138   \n209677 2024-01-05 09:31:59.995219075 2024-01-05 09:31:59.995219075   \n209678 2024-01-05 09:31:59.995257550 2024-01-05 09:31:59.995257550   \n209679 2024-01-05 09:31:59.995262401 2024-01-05 09:31:59.995262401   \n\n            Direction                               OrderID  \\\n0       NBFToExchange  ff9ed182-95a6-11ed-a209-047c16291a22   \n1       NBFToExchange  ff9ed183-95a6-11ed-b424-047c16291a22   \n2       ExchangeToNBF  ff9ed182-95a6-11ed-a209-047c16291a22   \n3       NBFToExchange  ff9ed184-95a6-11ed-bee9-047c16291a22   \n4       NBFToExchange  ff9ed185-95a6-11ed-aa6d-047c16291a22   \n...               ...                                   ...   \n209675  NBFToExchange  ffce9460-95a6-11ed-a761-047c16291a22   \n209676  NBFToExchange  ffce944a-95a6-11ed-9568-047c16291a22   \n209677  ExchangeToNBF  ffce9460-95a6-11ed-a761-047c16291a22   \n209678  ExchangeToNBF  ffce944a-95a6-11ed-9568-047c16291a22   \n209679  ExchangeToNBF  ffce944a-95a6-11ed-9568-047c16291a22   \n\n                 MessageType Symbol  OrderPrice    Exchange  \n0            NewOrderRequest  PRQ83       61.56  Exchange_1  \n1            NewOrderRequest  Z9XG4       69.37  Exchange_1  \n2       NewOrderAcknowledged  PRQ83       61.56  Exchange_1  \n3              CancelRequest  PRQ83         NaN  Exchange_1  \n4            NewOrderRequest  MZGZV       73.20  Exchange_1  \n...                      ...    ...         ...         ...  \n209675       NewOrderRequest  EAUEO       45.67  Exchange_1  \n209676         CancelRequest  EAUEO         NaN  Exchange_1  \n209677  NewOrderAcknowledged  EAUEO       45.67  Exchange_1  \n209678    CancelAcknowledged  EAUEO         NaN  Exchange_1  \n209679             Cancelled  EAUEO         NaN  Exchange_1  \n\n[209680 rows x 8 columns]",
      "text/html": "<div>\n<style scoped>\n    .dataframe tbody tr th:only-of-type {\n        vertical-align: middle;\n    }\n\n    .dataframe tbody tr th {\n        vertical-align: top;\n    }\n\n    .dataframe thead th {\n        text-align: right;\n    }\n</style>\n<table border=\"1\" class=\"dataframe\">\n  <thead>\n    <tr style=\"text-align: right;\">\n      <th></th>\n      <th>TimeStamp</th>\n      <th>TimeStampEpoch</th>\n      <th>Direction</th>\n      <th>OrderID</th>\n      <th>MessageType</th>\n      <th>Symbol</th>\n      <th>OrderPrice</th>\n      <th>Exchange</th>\n    </tr>\n  </thead>\n  <tbody>\n    <tr>\n      <th>0</th>\n      <td>2024-01-05 09:28:00.011058962</td>\n      <td>2024-01-05 09:28:00.011058962</td>\n      <td>NBFToExchange</td>\n      <td>ff9ed182-95a6-11ed-a209-047c16291a22</td>\n      <td>NewOrderRequest</td>\n      <td>PRQ83</td>\n      <td>61.56</td>\n      <td>Exchange_1</td>\n    </tr>\n    <tr>\n      <th>1</th>\n      <td>2024-01-05 09:28:00.011081372</td>\n      <td>2024-01-05 09:28:00.011081372</td>\n      <td>NBFToExchange</td>\n      <td>ff9ed183-95a6-11ed-b424-047c16291a22</td>\n      <td>NewOrderRequest</td>\n      <td>Z9XG4</td>\n      <td>69.37</td>\n      <td>Exchange_1</td>\n    </tr>\n    <tr>\n      <th>2</th>\n      <td>2024-01-05 09:28:00.011117286</td>\n      <td>2024-01-05 09:28:00.011117286</td>\n      <td>ExchangeToNBF</td>\n      <td>ff9ed182-95a6-11ed-a209-047c16291a22</td>\n      <td>NewOrderAcknowledged</td>\n      <td>PRQ83</td>\n      <td>61.56</td>\n      <td>Exchange_1</td>\n    </tr>\n    <tr>\n      <th>3</th>\n      <td>2024-01-05 09:28:00.011125452</td>\n      <td>2024-01-05 09:28:00.011125452</td>\n      <td>NBFToExchange</td>\n      <td>ff9ed184-95a6-11ed-bee9-047c16291a22</td>\n      <td>CancelRequest</td>\n      <td>PRQ83</td>\n      <td>NaN</td>\n      <td>Exchange_1</td>\n    </tr>\n    <tr>\n      <th>4</th>\n      <td>2024-01-05 09:28:00.011129285</td>\n      <td>2024-01-05 09:28:00.011129285</td>\n      <td>NBFToExchange</td>\n      <td>ff9ed185-95a6-11ed-aa6d-047c16291a22</td>\n      <td>NewOrderRequest</td>\n      <td>MZGZV</td>\n      <td>73.20</td>\n      <td>Exchange_1</td>\n    </tr>\n    <tr>\n      <th>...</th>\n      <td>...</td>\n      <td>...</td>\n      <td>...</td>\n      <td>...</td>\n      <td>...</td>\n      <td>...</td>\n      <td>...</td>\n      <td>...</td>\n    </tr>\n    <tr>\n      <th>209675</th>\n      <td>2024-01-05 09:31:59.995169747</td>\n      <td>2024-01-05 09:31:59.995169747</td>\n      <td>NBFToExchange</td>\n      <td>ffce9460-95a6-11ed-a761-047c16291a22</td>\n      <td>NewOrderRequest</td>\n      <td>EAUEO</td>\n      <td>45.67</td>\n      <td>Exchange_1</td>\n    </tr>\n    <tr>\n      <th>209676</th>\n      <td>2024-01-05 09:31:59.995210138</td>\n      <td>2024-01-05 09:31:59.995210138</td>\n      <td>NBFToExchange</td>\n      <td>ffce944a-95a6-11ed-9568-047c16291a22</td>\n      <td>CancelRequest</td>\n      <td>EAUEO</td>\n      <td>NaN</td>\n      <td>Exchange_1</td>\n    </tr>\n    <tr>\n      <th>209677</th>\n      <td>2024-01-05 09:31:59.995219075</td>\n      <td>2024-01-05 09:31:59.995219075</td>\n      <td>ExchangeToNBF</td>\n      <td>ffce9460-95a6-11ed-a761-047c16291a22</td>\n      <td>NewOrderAcknowledged</td>\n      <td>EAUEO</td>\n      <td>45.67</td>\n      <td>Exchange_1</td>\n    </tr>\n    <tr>\n      <th>209678</th>\n      <td>2024-01-05 09:31:59.995257550</td>\n      <td>2024-01-05 09:31:59.995257550</td>\n      <td>ExchangeToNBF</td>\n      <td>ffce944a-95a6-11ed-9568-047c16291a22</td>\n      <td>CancelAcknowledged</td>\n      <td>EAUEO</td>\n      <td>NaN</td>\n      <td>Exchange_1</td>\n    </tr>\n    <tr>\n      <th>209679</th>\n      <td>2024-01-05 09:31:59.995262401</td>\n      <td>2024-01-05 09:31:59.995262401</td>\n      <td>ExchangeToNBF</td>\n      <td>ffce944a-95a6-11ed-9568-047c16291a22</td>\n      <td>Cancelled</td>\n      <td>EAUEO</td>\n      <td>NaN</td>\n      <td>Exchange_1</td>\n    </tr>\n  </tbody>\n</table>\n<p>209680 rows × 8 columns</p>\n</div>"
     },
     "execution_count": 3,
     "metadata": {},
     "output_type": "execute_result"
    }
   ],
   "source": [
    "df = pd.read_json('../data/Exchange_1.json')\n",
    "df"
   ],
   "metadata": {
    "collapsed": false,
    "ExecuteTime": {
     "end_time": "2024-01-20T17:34:34.455761Z",
     "start_time": "2024-01-20T17:34:32.208596Z"
    }
   },
   "id": "4492dcb522049b73",
   "execution_count": 3
  },
  {
   "cell_type": "code",
   "outputs": [
    {
     "data": {
      "text/plain": "NewOrderRequest         41951\nNewOrderAcknowledged    41951\nCancelled               41934\nCancelRequest           41913\nCancelAcknowledged      41913\nTrade                      18\nName: MessageType, dtype: int64"
     },
     "execution_count": 5,
     "metadata": {},
     "output_type": "execute_result"
    }
   ],
   "source": [
    "df['MessageType'].value_counts()"
   ],
   "metadata": {
    "collapsed": false,
    "ExecuteTime": {
     "end_time": "2024-01-20T17:37:28.945852Z",
     "start_time": "2024-01-20T17:37:28.903060Z"
    }
   },
   "id": "35f19a4b637152c5",
   "execution_count": 5
  },
  {
   "cell_type": "code",
   "outputs": [
    {
     "data": {
      "text/plain": "                           TimeStamp                TimeStampEpoch  \\\n0      2024-01-05 09:28:00.011058962 2024-01-05 09:28:00.011058962   \n2      2024-01-05 09:28:00.011117286 2024-01-05 09:28:00.011117286   \n3      2024-01-05 09:28:00.011125452 2024-01-05 09:28:00.011125452   \n8      2024-01-05 09:28:00.011180495 2024-01-05 09:28:00.011180495   \n10     2024-01-05 09:28:00.011185162 2024-01-05 09:28:00.011185162   \n...                              ...                           ...   \n209424 2024-01-05 09:31:59.810566827 2024-01-05 09:31:59.810566827   \n209425 2024-01-05 09:31:59.810584826 2024-01-05 09:31:59.810584826   \n209426 2024-01-05 09:31:59.810616471 2024-01-05 09:31:59.810616471   \n209427 2024-01-05 09:31:59.810620950 2024-01-05 09:31:59.810620950   \n209428 2024-01-05 09:31:59.810633694 2024-01-05 09:31:59.810633694   \n\n            Direction                               OrderID  \\\n0       NBFToExchange  ff9ed182-95a6-11ed-a209-047c16291a22   \n2       ExchangeToNBF  ff9ed182-95a6-11ed-a209-047c16291a22   \n3       NBFToExchange  ff9ed184-95a6-11ed-bee9-047c16291a22   \n8       ExchangeToNBF  ff9ed184-95a6-11ed-bee9-047c16291a22   \n10      ExchangeToNBF  ff9ed184-95a6-11ed-bee9-047c16291a22   \n...               ...                                   ...   \n209424  NBFToExchange  ffce942b-95a6-11ed-b9a9-047c16291a22   \n209425  NBFToExchange  ffce942f-95a6-11ed-9e6f-047c16291a22   \n209426  ExchangeToNBF  ffce942b-95a6-11ed-b9a9-047c16291a22   \n209427  ExchangeToNBF  ffce942b-95a6-11ed-b9a9-047c16291a22   \n209428  ExchangeToNBF  ffce942f-95a6-11ed-9e6f-047c16291a22   \n\n                 MessageType Symbol  OrderPrice    Exchange  \n0            NewOrderRequest  PRQ83       61.56  Exchange_1  \n2       NewOrderAcknowledged  PRQ83       61.56  Exchange_1  \n3              CancelRequest  PRQ83         NaN  Exchange_1  \n8         CancelAcknowledged  PRQ83         NaN  Exchange_1  \n10                 Cancelled  PRQ83         NaN  Exchange_1  \n...                      ...    ...         ...         ...  \n209424         CancelRequest  PRQ83         NaN  Exchange_1  \n209425       NewOrderRequest  PRQ83       62.90  Exchange_1  \n209426    CancelAcknowledged  PRQ83         NaN  Exchange_1  \n209427             Cancelled  PRQ83         NaN  Exchange_1  \n209428  NewOrderAcknowledged  PRQ83       62.90  Exchange_1  \n\n[4455 rows x 8 columns]",
      "text/html": "<div>\n<style scoped>\n    .dataframe tbody tr th:only-of-type {\n        vertical-align: middle;\n    }\n\n    .dataframe tbody tr th {\n        vertical-align: top;\n    }\n\n    .dataframe thead th {\n        text-align: right;\n    }\n</style>\n<table border=\"1\" class=\"dataframe\">\n  <thead>\n    <tr style=\"text-align: right;\">\n      <th></th>\n      <th>TimeStamp</th>\n      <th>TimeStampEpoch</th>\n      <th>Direction</th>\n      <th>OrderID</th>\n      <th>MessageType</th>\n      <th>Symbol</th>\n      <th>OrderPrice</th>\n      <th>Exchange</th>\n    </tr>\n  </thead>\n  <tbody>\n    <tr>\n      <th>0</th>\n      <td>2024-01-05 09:28:00.011058962</td>\n      <td>2024-01-05 09:28:00.011058962</td>\n      <td>NBFToExchange</td>\n      <td>ff9ed182-95a6-11ed-a209-047c16291a22</td>\n      <td>NewOrderRequest</td>\n      <td>PRQ83</td>\n      <td>61.56</td>\n      <td>Exchange_1</td>\n    </tr>\n    <tr>\n      <th>2</th>\n      <td>2024-01-05 09:28:00.011117286</td>\n      <td>2024-01-05 09:28:00.011117286</td>\n      <td>ExchangeToNBF</td>\n      <td>ff9ed182-95a6-11ed-a209-047c16291a22</td>\n      <td>NewOrderAcknowledged</td>\n      <td>PRQ83</td>\n      <td>61.56</td>\n      <td>Exchange_1</td>\n    </tr>\n    <tr>\n      <th>3</th>\n      <td>2024-01-05 09:28:00.011125452</td>\n      <td>2024-01-05 09:28:00.011125452</td>\n      <td>NBFToExchange</td>\n      <td>ff9ed184-95a6-11ed-bee9-047c16291a22</td>\n      <td>CancelRequest</td>\n      <td>PRQ83</td>\n      <td>NaN</td>\n      <td>Exchange_1</td>\n    </tr>\n    <tr>\n      <th>8</th>\n      <td>2024-01-05 09:28:00.011180495</td>\n      <td>2024-01-05 09:28:00.011180495</td>\n      <td>ExchangeToNBF</td>\n      <td>ff9ed184-95a6-11ed-bee9-047c16291a22</td>\n      <td>CancelAcknowledged</td>\n      <td>PRQ83</td>\n      <td>NaN</td>\n      <td>Exchange_1</td>\n    </tr>\n    <tr>\n      <th>10</th>\n      <td>2024-01-05 09:28:00.011185162</td>\n      <td>2024-01-05 09:28:00.011185162</td>\n      <td>ExchangeToNBF</td>\n      <td>ff9ed184-95a6-11ed-bee9-047c16291a22</td>\n      <td>Cancelled</td>\n      <td>PRQ83</td>\n      <td>NaN</td>\n      <td>Exchange_1</td>\n    </tr>\n    <tr>\n      <th>...</th>\n      <td>...</td>\n      <td>...</td>\n      <td>...</td>\n      <td>...</td>\n      <td>...</td>\n      <td>...</td>\n      <td>...</td>\n      <td>...</td>\n    </tr>\n    <tr>\n      <th>209424</th>\n      <td>2024-01-05 09:31:59.810566827</td>\n      <td>2024-01-05 09:31:59.810566827</td>\n      <td>NBFToExchange</td>\n      <td>ffce942b-95a6-11ed-b9a9-047c16291a22</td>\n      <td>CancelRequest</td>\n      <td>PRQ83</td>\n      <td>NaN</td>\n      <td>Exchange_1</td>\n    </tr>\n    <tr>\n      <th>209425</th>\n      <td>2024-01-05 09:31:59.810584826</td>\n      <td>2024-01-05 09:31:59.810584826</td>\n      <td>NBFToExchange</td>\n      <td>ffce942f-95a6-11ed-9e6f-047c16291a22</td>\n      <td>NewOrderRequest</td>\n      <td>PRQ83</td>\n      <td>62.90</td>\n      <td>Exchange_1</td>\n    </tr>\n    <tr>\n      <th>209426</th>\n      <td>2024-01-05 09:31:59.810616471</td>\n      <td>2024-01-05 09:31:59.810616471</td>\n      <td>ExchangeToNBF</td>\n      <td>ffce942b-95a6-11ed-b9a9-047c16291a22</td>\n      <td>CancelAcknowledged</td>\n      <td>PRQ83</td>\n      <td>NaN</td>\n      <td>Exchange_1</td>\n    </tr>\n    <tr>\n      <th>209427</th>\n      <td>2024-01-05 09:31:59.810620950</td>\n      <td>2024-01-05 09:31:59.810620950</td>\n      <td>ExchangeToNBF</td>\n      <td>ffce942b-95a6-11ed-b9a9-047c16291a22</td>\n      <td>Cancelled</td>\n      <td>PRQ83</td>\n      <td>NaN</td>\n      <td>Exchange_1</td>\n    </tr>\n    <tr>\n      <th>209428</th>\n      <td>2024-01-05 09:31:59.810633694</td>\n      <td>2024-01-05 09:31:59.810633694</td>\n      <td>ExchangeToNBF</td>\n      <td>ffce942f-95a6-11ed-9e6f-047c16291a22</td>\n      <td>NewOrderAcknowledged</td>\n      <td>PRQ83</td>\n      <td>62.90</td>\n      <td>Exchange_1</td>\n    </tr>\n  </tbody>\n</table>\n<p>4455 rows × 8 columns</p>\n</div>"
     },
     "execution_count": 26,
     "metadata": {},
     "output_type": "execute_result"
    }
   ],
   "source": [
    "df.loc[df['Symbol'] == 'PRQ83']"
   ],
   "metadata": {
    "collapsed": false,
    "ExecuteTime": {
     "end_time": "2024-01-20T22:49:34.799296Z",
     "start_time": "2024-01-20T22:49:34.691280Z"
    }
   },
   "id": "20d3f9eeb0c8cc12",
   "execution_count": 26
  },
  {
   "cell_type": "code",
   "outputs": [
    {
     "data": {
      "text/plain": "Symbol\n02A1O     443\n07NHZ    1393\n0GOME      39\n0T3NY       1\n1SCON      41\n         ... \nZ8ULK      85\nZ9JOE     166\nZ9XG4     952\nZHBMH     299\nZKQQD     404\nName: OrderID, Length: 132, dtype: int64"
     },
     "execution_count": 27,
     "metadata": {},
     "output_type": "execute_result"
    }
   ],
   "source": [
    "df.groupby('Symbol')['OrderID'].nunique()"
   ],
   "metadata": {
    "collapsed": false,
    "ExecuteTime": {
     "end_time": "2024-01-20T23:15:18.145505Z",
     "start_time": "2024-01-20T23:15:17.699760Z"
    }
   },
   "id": "2c3848c342b8f8f0",
   "execution_count": 27
  },
  {
   "cell_type": "code",
   "outputs": [
    {
     "data": {
      "text/plain": "ExchangeToNBF    125816\nNBFToExchange     83864\nName: Direction, dtype: int64"
     },
     "execution_count": 6,
     "metadata": {},
     "output_type": "execute_result"
    }
   ],
   "source": [
    "df['Direction'].value_counts()"
   ],
   "metadata": {
    "collapsed": false,
    "ExecuteTime": {
     "end_time": "2024-01-20T17:37:30.169597Z",
     "start_time": "2024-01-20T17:37:30.147295Z"
    }
   },
   "id": "595ef1b99e60c7a9",
   "execution_count": 6
  },
  {
   "cell_type": "code",
   "outputs": [
    {
     "data": {
      "text/plain": "(209680, 8)"
     },
     "execution_count": 7,
     "metadata": {},
     "output_type": "execute_result"
    }
   ],
   "source": [
    "df.shape"
   ],
   "metadata": {
    "collapsed": false,
    "ExecuteTime": {
     "end_time": "2024-01-20T17:49:28.436888Z",
     "start_time": "2024-01-20T17:49:28.420865Z"
    }
   },
   "id": "45af6bd8dfc6c6d5",
   "execution_count": 7
  },
  {
   "cell_type": "code",
   "outputs": [
    {
     "data": {
      "text/plain": "ffaf99c2-95a6-11ed-a779-047c16291a22    9\nffac6703-95a6-11ed-8abe-047c16291a22    7\nffaf99cd-95a6-11ed-ae4e-047c16291a22    6\nffad9f04-95a6-11ed-954e-047c16291a22    6\nffab0708-95a6-11ed-a4a0-047c16291a22    6\n                                       ..\nffad77a4-95a6-11ed-8b2a-047c16291a22    2\nffad77a5-95a6-11ed-ada1-047c16291a22    2\nffca4efe-95a6-11ed-8a51-047c16291a22    2\nffca4eff-95a6-11ed-94ad-047c16291a22    2\nffce9460-95a6-11ed-a761-047c16291a22    2\nName: OrderID, Length: 42241, dtype: int64"
     },
     "execution_count": 20,
     "metadata": {},
     "output_type": "execute_result"
    }
   ],
   "source": [
    "order_id = df['OrderID'].value_counts().sort_values(ascending=False)\n",
    "order_id"
   ],
   "metadata": {
    "collapsed": false,
    "ExecuteTime": {
     "end_time": "2024-01-20T18:49:36.014607Z",
     "start_time": "2024-01-20T18:49:35.967892Z"
    }
   },
   "id": "56cf2aac231a9180",
   "execution_count": 20
  },
  {
   "cell_type": "code",
   "outputs": [
    {
     "data": {
      "text/plain": "ff9ed186-95a6-11ed-8820-047c16291a22    3\nffa2c9dd-95a6-11ed-b915-047c16291a22    3\nffabc9e4-95a6-11ed-9e20-047c16291a22    3\nffa2c9d8-95a6-11ed-9ee0-047c16291a22    3\nff9ed1ac-95a6-11ed-afa4-047c16291a22    3\n                                       ..\nffa33ec5-95a6-11ed-a728-047c16291a22    3\nff9ed21f-95a6-11ed-823c-047c16291a22    3\nff9ed21e-95a6-11ed-ae56-047c16291a22    3\nff9ed221-95a6-11ed-9707-047c16291a22    3\nff9ed222-95a6-11ed-a2e0-047c16291a22    3\nName: OrderID, Length: 317, dtype: int64"
     },
     "execution_count": 23,
     "metadata": {},
     "output_type": "execute_result"
    }
   ],
   "source": [
    "order_id[order_id == 3]\n"
   ],
   "metadata": {
    "collapsed": false,
    "ExecuteTime": {
     "end_time": "2024-01-20T18:51:19.259190Z",
     "start_time": "2024-01-20T18:51:19.217231Z"
    }
   },
   "id": "fa0bdf9d90f7e03d",
   "execution_count": 23
  },
  {
   "cell_type": "code",
   "outputs": [
    {
     "data": {
      "text/plain": "3    317\nName: OrderID, dtype: int64"
     },
     "execution_count": 25,
     "metadata": {},
     "output_type": "execute_result"
    }
   ],
   "source": [
    "order_id[order_id == 3].value_counts()\n"
   ],
   "metadata": {
    "collapsed": false,
    "ExecuteTime": {
     "end_time": "2024-01-20T18:53:47.741197Z",
     "start_time": "2024-01-20T18:53:47.716553Z"
    }
   },
   "id": "54bc02199a3bfd71",
   "execution_count": 25
  },
  {
   "cell_type": "code",
   "outputs": [
    {
     "data": {
      "text/plain": "                          TimeStamp                TimeStampEpoch  \\\n74531 2024-01-05 09:30:13.222644379 2024-01-05 09:30:13.222644379   \n74534 2024-01-05 09:30:13.223092006 2024-01-05 09:30:13.223092006   \n74780 2024-01-05 09:30:14.706381502 2024-01-05 09:30:14.706381502   \n74781 2024-01-05 09:30:14.706399068 2024-01-05 09:30:14.706399068   \n74782 2024-01-05 09:30:14.706532675 2024-01-05 09:30:14.706532675   \n74783 2024-01-05 09:30:14.706716850 2024-01-05 09:30:14.706716850   \n75167 2024-01-05 09:30:14.801770920 2024-01-05 09:30:14.801770920   \n75170 2024-01-05 09:30:14.801825812 2024-01-05 09:30:14.801825812   \n75171 2024-01-05 09:30:14.801833526 2024-01-05 09:30:14.801833526   \n\n           Direction                               OrderID  \\\n74531  NBFToExchange  ffaf99c2-95a6-11ed-a779-047c16291a22   \n74534  ExchangeToNBF  ffaf99c2-95a6-11ed-a779-047c16291a22   \n74780  ExchangeToNBF  ffaf99c2-95a6-11ed-a779-047c16291a22   \n74781  ExchangeToNBF  ffaf99c2-95a6-11ed-a779-047c16291a22   \n74782  ExchangeToNBF  ffaf99c2-95a6-11ed-a779-047c16291a22   \n74783  ExchangeToNBF  ffaf99c2-95a6-11ed-a779-047c16291a22   \n75167  NBFToExchange  ffaf99c2-95a6-11ed-a779-047c16291a22   \n75170  ExchangeToNBF  ffaf99c2-95a6-11ed-a779-047c16291a22   \n75171  ExchangeToNBF  ffaf99c2-95a6-11ed-a779-047c16291a22   \n\n                MessageType Symbol  OrderPrice    Exchange  \n74531       NewOrderRequest  8TJ2B       61.45  Exchange_1  \n74534  NewOrderAcknowledged  8TJ2B       61.45  Exchange_1  \n74780                 Trade  8TJ2B       61.45  Exchange_1  \n74781                 Trade  8TJ2B       61.45  Exchange_1  \n74782                 Trade  8TJ2B       61.45  Exchange_1  \n74783                 Trade  8TJ2B       61.45  Exchange_1  \n75167         CancelRequest  8TJ2B         NaN  Exchange_1  \n75170    CancelAcknowledged  8TJ2B         NaN  Exchange_1  \n75171             Cancelled  8TJ2B         NaN  Exchange_1  ",
      "text/html": "<div>\n<style scoped>\n    .dataframe tbody tr th:only-of-type {\n        vertical-align: middle;\n    }\n\n    .dataframe tbody tr th {\n        vertical-align: top;\n    }\n\n    .dataframe thead th {\n        text-align: right;\n    }\n</style>\n<table border=\"1\" class=\"dataframe\">\n  <thead>\n    <tr style=\"text-align: right;\">\n      <th></th>\n      <th>TimeStamp</th>\n      <th>TimeStampEpoch</th>\n      <th>Direction</th>\n      <th>OrderID</th>\n      <th>MessageType</th>\n      <th>Symbol</th>\n      <th>OrderPrice</th>\n      <th>Exchange</th>\n    </tr>\n  </thead>\n  <tbody>\n    <tr>\n      <th>74531</th>\n      <td>2024-01-05 09:30:13.222644379</td>\n      <td>2024-01-05 09:30:13.222644379</td>\n      <td>NBFToExchange</td>\n      <td>ffaf99c2-95a6-11ed-a779-047c16291a22</td>\n      <td>NewOrderRequest</td>\n      <td>8TJ2B</td>\n      <td>61.45</td>\n      <td>Exchange_1</td>\n    </tr>\n    <tr>\n      <th>74534</th>\n      <td>2024-01-05 09:30:13.223092006</td>\n      <td>2024-01-05 09:30:13.223092006</td>\n      <td>ExchangeToNBF</td>\n      <td>ffaf99c2-95a6-11ed-a779-047c16291a22</td>\n      <td>NewOrderAcknowledged</td>\n      <td>8TJ2B</td>\n      <td>61.45</td>\n      <td>Exchange_1</td>\n    </tr>\n    <tr>\n      <th>74780</th>\n      <td>2024-01-05 09:30:14.706381502</td>\n      <td>2024-01-05 09:30:14.706381502</td>\n      <td>ExchangeToNBF</td>\n      <td>ffaf99c2-95a6-11ed-a779-047c16291a22</td>\n      <td>Trade</td>\n      <td>8TJ2B</td>\n      <td>61.45</td>\n      <td>Exchange_1</td>\n    </tr>\n    <tr>\n      <th>74781</th>\n      <td>2024-01-05 09:30:14.706399068</td>\n      <td>2024-01-05 09:30:14.706399068</td>\n      <td>ExchangeToNBF</td>\n      <td>ffaf99c2-95a6-11ed-a779-047c16291a22</td>\n      <td>Trade</td>\n      <td>8TJ2B</td>\n      <td>61.45</td>\n      <td>Exchange_1</td>\n    </tr>\n    <tr>\n      <th>74782</th>\n      <td>2024-01-05 09:30:14.706532675</td>\n      <td>2024-01-05 09:30:14.706532675</td>\n      <td>ExchangeToNBF</td>\n      <td>ffaf99c2-95a6-11ed-a779-047c16291a22</td>\n      <td>Trade</td>\n      <td>8TJ2B</td>\n      <td>61.45</td>\n      <td>Exchange_1</td>\n    </tr>\n    <tr>\n      <th>74783</th>\n      <td>2024-01-05 09:30:14.706716850</td>\n      <td>2024-01-05 09:30:14.706716850</td>\n      <td>ExchangeToNBF</td>\n      <td>ffaf99c2-95a6-11ed-a779-047c16291a22</td>\n      <td>Trade</td>\n      <td>8TJ2B</td>\n      <td>61.45</td>\n      <td>Exchange_1</td>\n    </tr>\n    <tr>\n      <th>75167</th>\n      <td>2024-01-05 09:30:14.801770920</td>\n      <td>2024-01-05 09:30:14.801770920</td>\n      <td>NBFToExchange</td>\n      <td>ffaf99c2-95a6-11ed-a779-047c16291a22</td>\n      <td>CancelRequest</td>\n      <td>8TJ2B</td>\n      <td>NaN</td>\n      <td>Exchange_1</td>\n    </tr>\n    <tr>\n      <th>75170</th>\n      <td>2024-01-05 09:30:14.801825812</td>\n      <td>2024-01-05 09:30:14.801825812</td>\n      <td>ExchangeToNBF</td>\n      <td>ffaf99c2-95a6-11ed-a779-047c16291a22</td>\n      <td>CancelAcknowledged</td>\n      <td>8TJ2B</td>\n      <td>NaN</td>\n      <td>Exchange_1</td>\n    </tr>\n    <tr>\n      <th>75171</th>\n      <td>2024-01-05 09:30:14.801833526</td>\n      <td>2024-01-05 09:30:14.801833526</td>\n      <td>ExchangeToNBF</td>\n      <td>ffaf99c2-95a6-11ed-a779-047c16291a22</td>\n      <td>Cancelled</td>\n      <td>8TJ2B</td>\n      <td>NaN</td>\n      <td>Exchange_1</td>\n    </tr>\n  </tbody>\n</table>\n</div>"
     },
     "execution_count": 10,
     "metadata": {},
     "output_type": "execute_result"
    }
   ],
   "source": [
    "df.loc[df['OrderID'] == 'ffaf99c2-95a6-11ed-a779-047c16291a22'] # 9"
   ],
   "metadata": {
    "collapsed": false,
    "ExecuteTime": {
     "end_time": "2024-01-20T18:04:59.060568Z",
     "start_time": "2024-01-20T18:04:59.010901Z"
    }
   },
   "id": "76a856d836198668",
   "execution_count": 10
  },
  {
   "cell_type": "code",
   "outputs": [
    {
     "data": {
      "text/plain": "                          TimeStamp                TimeStampEpoch  \\\n55651 2024-01-05 09:30:00.709851633 2024-01-05 09:30:00.709851633   \n55840 2024-01-05 09:30:00.718017541 2024-01-05 09:30:00.718017541   \n55863 2024-01-05 09:30:00.735832506 2024-01-05 09:30:00.735832506   \n55864 2024-01-05 09:30:00.736766613 2024-01-05 09:30:00.736766613   \n56223 2024-01-05 09:30:00.905403924 2024-01-05 09:30:00.905403924   \n56226 2024-01-05 09:30:00.905465113 2024-01-05 09:30:00.905465113   \n56227 2024-01-05 09:30:00.905467672 2024-01-05 09:30:00.905467672   \n\n           Direction                               OrderID  \\\n55651  NBFToExchange  ffac6703-95a6-11ed-8abe-047c16291a22   \n55840  ExchangeToNBF  ffac6703-95a6-11ed-8abe-047c16291a22   \n55863  ExchangeToNBF  ffac6703-95a6-11ed-8abe-047c16291a22   \n55864  ExchangeToNBF  ffac6703-95a6-11ed-8abe-047c16291a22   \n56223  NBFToExchange  ffac6703-95a6-11ed-8abe-047c16291a22   \n56226  ExchangeToNBF  ffac6703-95a6-11ed-8abe-047c16291a22   \n56227  ExchangeToNBF  ffac6703-95a6-11ed-8abe-047c16291a22   \n\n                MessageType Symbol  OrderPrice    Exchange  \n55651       NewOrderRequest  GM73P       65.67  Exchange_1  \n55840  NewOrderAcknowledged  GM73P       65.67  Exchange_1  \n55863                 Trade  GM73P       65.67  Exchange_1  \n55864                 Trade  GM73P       65.67  Exchange_1  \n56223         CancelRequest  GM73P         NaN  Exchange_1  \n56226    CancelAcknowledged  GM73P         NaN  Exchange_1  \n56227             Cancelled  GM73P         NaN  Exchange_1  ",
      "text/html": "<div>\n<style scoped>\n    .dataframe tbody tr th:only-of-type {\n        vertical-align: middle;\n    }\n\n    .dataframe tbody tr th {\n        vertical-align: top;\n    }\n\n    .dataframe thead th {\n        text-align: right;\n    }\n</style>\n<table border=\"1\" class=\"dataframe\">\n  <thead>\n    <tr style=\"text-align: right;\">\n      <th></th>\n      <th>TimeStamp</th>\n      <th>TimeStampEpoch</th>\n      <th>Direction</th>\n      <th>OrderID</th>\n      <th>MessageType</th>\n      <th>Symbol</th>\n      <th>OrderPrice</th>\n      <th>Exchange</th>\n    </tr>\n  </thead>\n  <tbody>\n    <tr>\n      <th>55651</th>\n      <td>2024-01-05 09:30:00.709851633</td>\n      <td>2024-01-05 09:30:00.709851633</td>\n      <td>NBFToExchange</td>\n      <td>ffac6703-95a6-11ed-8abe-047c16291a22</td>\n      <td>NewOrderRequest</td>\n      <td>GM73P</td>\n      <td>65.67</td>\n      <td>Exchange_1</td>\n    </tr>\n    <tr>\n      <th>55840</th>\n      <td>2024-01-05 09:30:00.718017541</td>\n      <td>2024-01-05 09:30:00.718017541</td>\n      <td>ExchangeToNBF</td>\n      <td>ffac6703-95a6-11ed-8abe-047c16291a22</td>\n      <td>NewOrderAcknowledged</td>\n      <td>GM73P</td>\n      <td>65.67</td>\n      <td>Exchange_1</td>\n    </tr>\n    <tr>\n      <th>55863</th>\n      <td>2024-01-05 09:30:00.735832506</td>\n      <td>2024-01-05 09:30:00.735832506</td>\n      <td>ExchangeToNBF</td>\n      <td>ffac6703-95a6-11ed-8abe-047c16291a22</td>\n      <td>Trade</td>\n      <td>GM73P</td>\n      <td>65.67</td>\n      <td>Exchange_1</td>\n    </tr>\n    <tr>\n      <th>55864</th>\n      <td>2024-01-05 09:30:00.736766613</td>\n      <td>2024-01-05 09:30:00.736766613</td>\n      <td>ExchangeToNBF</td>\n      <td>ffac6703-95a6-11ed-8abe-047c16291a22</td>\n      <td>Trade</td>\n      <td>GM73P</td>\n      <td>65.67</td>\n      <td>Exchange_1</td>\n    </tr>\n    <tr>\n      <th>56223</th>\n      <td>2024-01-05 09:30:00.905403924</td>\n      <td>2024-01-05 09:30:00.905403924</td>\n      <td>NBFToExchange</td>\n      <td>ffac6703-95a6-11ed-8abe-047c16291a22</td>\n      <td>CancelRequest</td>\n      <td>GM73P</td>\n      <td>NaN</td>\n      <td>Exchange_1</td>\n    </tr>\n    <tr>\n      <th>56226</th>\n      <td>2024-01-05 09:30:00.905465113</td>\n      <td>2024-01-05 09:30:00.905465113</td>\n      <td>ExchangeToNBF</td>\n      <td>ffac6703-95a6-11ed-8abe-047c16291a22</td>\n      <td>CancelAcknowledged</td>\n      <td>GM73P</td>\n      <td>NaN</td>\n      <td>Exchange_1</td>\n    </tr>\n    <tr>\n      <th>56227</th>\n      <td>2024-01-05 09:30:00.905467672</td>\n      <td>2024-01-05 09:30:00.905467672</td>\n      <td>ExchangeToNBF</td>\n      <td>ffac6703-95a6-11ed-8abe-047c16291a22</td>\n      <td>Cancelled</td>\n      <td>GM73P</td>\n      <td>NaN</td>\n      <td>Exchange_1</td>\n    </tr>\n  </tbody>\n</table>\n</div>"
     },
     "execution_count": 11,
     "metadata": {},
     "output_type": "execute_result"
    }
   ],
   "source": [
    "df.loc[df['OrderID'] == 'ffac6703-95a6-11ed-8abe-047c16291a22'] # 7\n"
   ],
   "metadata": {
    "collapsed": false,
    "ExecuteTime": {
     "end_time": "2024-01-20T18:07:14.199155Z",
     "start_time": "2024-01-20T18:07:14.173046Z"
    }
   },
   "id": "2d84644a28388bfe",
   "execution_count": 11
  },
  {
   "cell_type": "code",
   "outputs": [
    {
     "data": {
      "text/plain": "                         TimeStamp                TimeStampEpoch  \\\n2793 2024-01-05 09:28:02.414675067 2024-01-05 09:28:02.414675067   \n2801 2024-01-05 09:28:02.414739207 2024-01-05 09:28:02.414739207   \n2876 2024-01-05 09:28:02.514539547 2024-01-05 09:28:02.514539547   \n2878 2024-01-05 09:28:02.514592035 2024-01-05 09:28:02.514592035   \n2879 2024-01-05 09:28:02.514597108 2024-01-05 09:28:02.514597108   \n\n          Direction                               OrderID  \\\n2793  NBFToExchange  ffa2066e-95a6-11ed-a4d6-047c16291a22   \n2801  ExchangeToNBF  ffa2066e-95a6-11ed-a4d6-047c16291a22   \n2876  NBFToExchange  ffa2066e-95a6-11ed-a4d6-047c16291a22   \n2878  ExchangeToNBF  ffa2066e-95a6-11ed-a4d6-047c16291a22   \n2879  ExchangeToNBF  ffa2066e-95a6-11ed-a4d6-047c16291a22   \n\n               MessageType Symbol  OrderPrice    Exchange  \n2793       NewOrderRequest  ACGZM      246.79  Exchange_1  \n2801  NewOrderAcknowledged  ACGZM      246.79  Exchange_1  \n2876         CancelRequest  ACGZM         NaN  Exchange_1  \n2878    CancelAcknowledged  ACGZM         NaN  Exchange_1  \n2879             Cancelled  ACGZM         NaN  Exchange_1  ",
      "text/html": "<div>\n<style scoped>\n    .dataframe tbody tr th:only-of-type {\n        vertical-align: middle;\n    }\n\n    .dataframe tbody tr th {\n        vertical-align: top;\n    }\n\n    .dataframe thead th {\n        text-align: right;\n    }\n</style>\n<table border=\"1\" class=\"dataframe\">\n  <thead>\n    <tr style=\"text-align: right;\">\n      <th></th>\n      <th>TimeStamp</th>\n      <th>TimeStampEpoch</th>\n      <th>Direction</th>\n      <th>OrderID</th>\n      <th>MessageType</th>\n      <th>Symbol</th>\n      <th>OrderPrice</th>\n      <th>Exchange</th>\n    </tr>\n  </thead>\n  <tbody>\n    <tr>\n      <th>2793</th>\n      <td>2024-01-05 09:28:02.414675067</td>\n      <td>2024-01-05 09:28:02.414675067</td>\n      <td>NBFToExchange</td>\n      <td>ffa2066e-95a6-11ed-a4d6-047c16291a22</td>\n      <td>NewOrderRequest</td>\n      <td>ACGZM</td>\n      <td>246.79</td>\n      <td>Exchange_1</td>\n    </tr>\n    <tr>\n      <th>2801</th>\n      <td>2024-01-05 09:28:02.414739207</td>\n      <td>2024-01-05 09:28:02.414739207</td>\n      <td>ExchangeToNBF</td>\n      <td>ffa2066e-95a6-11ed-a4d6-047c16291a22</td>\n      <td>NewOrderAcknowledged</td>\n      <td>ACGZM</td>\n      <td>246.79</td>\n      <td>Exchange_1</td>\n    </tr>\n    <tr>\n      <th>2876</th>\n      <td>2024-01-05 09:28:02.514539547</td>\n      <td>2024-01-05 09:28:02.514539547</td>\n      <td>NBFToExchange</td>\n      <td>ffa2066e-95a6-11ed-a4d6-047c16291a22</td>\n      <td>CancelRequest</td>\n      <td>ACGZM</td>\n      <td>NaN</td>\n      <td>Exchange_1</td>\n    </tr>\n    <tr>\n      <th>2878</th>\n      <td>2024-01-05 09:28:02.514592035</td>\n      <td>2024-01-05 09:28:02.514592035</td>\n      <td>ExchangeToNBF</td>\n      <td>ffa2066e-95a6-11ed-a4d6-047c16291a22</td>\n      <td>CancelAcknowledged</td>\n      <td>ACGZM</td>\n      <td>NaN</td>\n      <td>Exchange_1</td>\n    </tr>\n    <tr>\n      <th>2879</th>\n      <td>2024-01-05 09:28:02.514597108</td>\n      <td>2024-01-05 09:28:02.514597108</td>\n      <td>ExchangeToNBF</td>\n      <td>ffa2066e-95a6-11ed-a4d6-047c16291a22</td>\n      <td>Cancelled</td>\n      <td>ACGZM</td>\n      <td>NaN</td>\n      <td>Exchange_1</td>\n    </tr>\n  </tbody>\n</table>\n</div>"
     },
     "execution_count": 12,
     "metadata": {},
     "output_type": "execute_result"
    }
   ],
   "source": [
    "df.loc[df['OrderID'] == 'ffa2066e-95a6-11ed-a4d6-047c16291a22'] # 5"
   ],
   "metadata": {
    "collapsed": false,
    "ExecuteTime": {
     "end_time": "2024-01-20T18:07:52.059979Z",
     "start_time": "2024-01-20T18:07:52.038993Z"
    }
   },
   "id": "f4bce5b9e14a1778",
   "execution_count": 12
  },
  {
   "cell_type": "code",
   "outputs": [
    {
     "data": {
      "text/plain": "                          TimeStamp                TimeStampEpoch  \\\n75211 2024-01-05 09:30:14.804577193 2024-01-05 09:30:14.804577193   \n75221 2024-01-05 09:30:14.804657789 2024-01-05 09:30:14.804657789   \n75223 2024-01-05 09:30:14.804842525 2024-01-05 09:30:14.804842525   \n75234 2024-01-05 09:30:14.805116413 2024-01-05 09:30:14.805116413   \n\n           Direction                               OrderID  \\\n75211  NBFToExchange  ffafc0af-95a6-11ed-8b3a-047c16291a22   \n75221  ExchangeToNBF  ffafc0af-95a6-11ed-8b3a-047c16291a22   \n75223  ExchangeToNBF  ffafc0af-95a6-11ed-8b3a-047c16291a22   \n75234  ExchangeToNBF  ffafc0af-95a6-11ed-8b3a-047c16291a22   \n\n                MessageType Symbol  OrderPrice    Exchange  \n75211       NewOrderRequest  07NHZ      100.11  Exchange_1  \n75221  NewOrderAcknowledged  07NHZ      100.11  Exchange_1  \n75223                 Trade  07NHZ      100.11  Exchange_1  \n75234                 Trade  07NHZ      100.11  Exchange_1  ",
      "text/html": "<div>\n<style scoped>\n    .dataframe tbody tr th:only-of-type {\n        vertical-align: middle;\n    }\n\n    .dataframe tbody tr th {\n        vertical-align: top;\n    }\n\n    .dataframe thead th {\n        text-align: right;\n    }\n</style>\n<table border=\"1\" class=\"dataframe\">\n  <thead>\n    <tr style=\"text-align: right;\">\n      <th></th>\n      <th>TimeStamp</th>\n      <th>TimeStampEpoch</th>\n      <th>Direction</th>\n      <th>OrderID</th>\n      <th>MessageType</th>\n      <th>Symbol</th>\n      <th>OrderPrice</th>\n      <th>Exchange</th>\n    </tr>\n  </thead>\n  <tbody>\n    <tr>\n      <th>75211</th>\n      <td>2024-01-05 09:30:14.804577193</td>\n      <td>2024-01-05 09:30:14.804577193</td>\n      <td>NBFToExchange</td>\n      <td>ffafc0af-95a6-11ed-8b3a-047c16291a22</td>\n      <td>NewOrderRequest</td>\n      <td>07NHZ</td>\n      <td>100.11</td>\n      <td>Exchange_1</td>\n    </tr>\n    <tr>\n      <th>75221</th>\n      <td>2024-01-05 09:30:14.804657789</td>\n      <td>2024-01-05 09:30:14.804657789</td>\n      <td>ExchangeToNBF</td>\n      <td>ffafc0af-95a6-11ed-8b3a-047c16291a22</td>\n      <td>NewOrderAcknowledged</td>\n      <td>07NHZ</td>\n      <td>100.11</td>\n      <td>Exchange_1</td>\n    </tr>\n    <tr>\n      <th>75223</th>\n      <td>2024-01-05 09:30:14.804842525</td>\n      <td>2024-01-05 09:30:14.804842525</td>\n      <td>ExchangeToNBF</td>\n      <td>ffafc0af-95a6-11ed-8b3a-047c16291a22</td>\n      <td>Trade</td>\n      <td>07NHZ</td>\n      <td>100.11</td>\n      <td>Exchange_1</td>\n    </tr>\n    <tr>\n      <th>75234</th>\n      <td>2024-01-05 09:30:14.805116413</td>\n      <td>2024-01-05 09:30:14.805116413</td>\n      <td>ExchangeToNBF</td>\n      <td>ffafc0af-95a6-11ed-8b3a-047c16291a22</td>\n      <td>Trade</td>\n      <td>07NHZ</td>\n      <td>100.11</td>\n      <td>Exchange_1</td>\n    </tr>\n  </tbody>\n</table>\n</div>"
     },
     "execution_count": 22,
     "metadata": {},
     "output_type": "execute_result"
    }
   ],
   "source": [
    "df.loc[df['OrderID'] == 'ffafc0af-95a6-11ed-8b3a-047c16291a22'] # 4"
   ],
   "metadata": {
    "collapsed": false,
    "ExecuteTime": {
     "end_time": "2024-01-20T18:50:26.303524Z",
     "start_time": "2024-01-20T18:50:26.233244Z"
    }
   },
   "id": "ed0e30c5f85433df",
   "execution_count": 22
  },
  {
   "cell_type": "code",
   "outputs": [
    {
     "data": {
      "text/plain": "                       TimeStamp                TimeStampEpoch      Direction  \\\n5  2024-01-05 09:28:00.011146525 2024-01-05 09:28:00.011146525  NBFToExchange   \n11 2024-01-05 09:28:00.011210770 2024-01-05 09:28:00.011210770  ExchangeToNBF   \n12 2024-01-05 09:28:00.011214759 2024-01-05 09:28:00.011214759  ExchangeToNBF   \n\n                                 OrderID         MessageType Symbol  \\\n5   ff9ed186-95a6-11ed-8820-047c16291a22       CancelRequest  Z9XG4   \n11  ff9ed186-95a6-11ed-8820-047c16291a22  CancelAcknowledged  Z9XG4   \n12  ff9ed186-95a6-11ed-8820-047c16291a22           Cancelled  Z9XG4   \n\n    OrderPrice    Exchange  \n5          NaN  Exchange_1  \n11         NaN  Exchange_1  \n12         NaN  Exchange_1  ",
      "text/html": "<div>\n<style scoped>\n    .dataframe tbody tr th:only-of-type {\n        vertical-align: middle;\n    }\n\n    .dataframe tbody tr th {\n        vertical-align: top;\n    }\n\n    .dataframe thead th {\n        text-align: right;\n    }\n</style>\n<table border=\"1\" class=\"dataframe\">\n  <thead>\n    <tr style=\"text-align: right;\">\n      <th></th>\n      <th>TimeStamp</th>\n      <th>TimeStampEpoch</th>\n      <th>Direction</th>\n      <th>OrderID</th>\n      <th>MessageType</th>\n      <th>Symbol</th>\n      <th>OrderPrice</th>\n      <th>Exchange</th>\n    </tr>\n  </thead>\n  <tbody>\n    <tr>\n      <th>5</th>\n      <td>2024-01-05 09:28:00.011146525</td>\n      <td>2024-01-05 09:28:00.011146525</td>\n      <td>NBFToExchange</td>\n      <td>ff9ed186-95a6-11ed-8820-047c16291a22</td>\n      <td>CancelRequest</td>\n      <td>Z9XG4</td>\n      <td>NaN</td>\n      <td>Exchange_1</td>\n    </tr>\n    <tr>\n      <th>11</th>\n      <td>2024-01-05 09:28:00.011210770</td>\n      <td>2024-01-05 09:28:00.011210770</td>\n      <td>ExchangeToNBF</td>\n      <td>ff9ed186-95a6-11ed-8820-047c16291a22</td>\n      <td>CancelAcknowledged</td>\n      <td>Z9XG4</td>\n      <td>NaN</td>\n      <td>Exchange_1</td>\n    </tr>\n    <tr>\n      <th>12</th>\n      <td>2024-01-05 09:28:00.011214759</td>\n      <td>2024-01-05 09:28:00.011214759</td>\n      <td>ExchangeToNBF</td>\n      <td>ff9ed186-95a6-11ed-8820-047c16291a22</td>\n      <td>Cancelled</td>\n      <td>Z9XG4</td>\n      <td>NaN</td>\n      <td>Exchange_1</td>\n    </tr>\n  </tbody>\n</table>\n</div>"
     },
     "execution_count": 24,
     "metadata": {},
     "output_type": "execute_result"
    }
   ],
   "source": [
    "df.loc[df['OrderID'] == 'ff9ed186-95a6-11ed-8820-047c16291a22'] # 3"
   ],
   "metadata": {
    "collapsed": false,
    "ExecuteTime": {
     "end_time": "2024-01-20T18:51:36.325503Z",
     "start_time": "2024-01-20T18:51:36.307055Z"
    }
   },
   "id": "11ad17d2b1ad8730",
   "execution_count": 24
  },
  {
   "cell_type": "code",
   "outputs": [
    {
     "data": {
      "text/plain": "                           TimeStamp                TimeStampEpoch  \\\n184440 2024-01-05 09:31:38.470460625 2024-01-05 09:31:38.470460625   \n184443 2024-01-05 09:31:38.470514774 2024-01-05 09:31:38.470514774   \n\n            Direction                               OrderID  \\\n184440  NBFToExchange  ffca27ea-95a6-11ed-8b41-047c16291a22   \n184443  ExchangeToNBF  ffca27ea-95a6-11ed-8b41-047c16291a22   \n\n                 MessageType Symbol  OrderPrice    Exchange  \n184440       NewOrderRequest  775GN        1.92  Exchange_1  \n184443  NewOrderAcknowledged  775GN        1.92  Exchange_1  ",
      "text/html": "<div>\n<style scoped>\n    .dataframe tbody tr th:only-of-type {\n        vertical-align: middle;\n    }\n\n    .dataframe tbody tr th {\n        vertical-align: top;\n    }\n\n    .dataframe thead th {\n        text-align: right;\n    }\n</style>\n<table border=\"1\" class=\"dataframe\">\n  <thead>\n    <tr style=\"text-align: right;\">\n      <th></th>\n      <th>TimeStamp</th>\n      <th>TimeStampEpoch</th>\n      <th>Direction</th>\n      <th>OrderID</th>\n      <th>MessageType</th>\n      <th>Symbol</th>\n      <th>OrderPrice</th>\n      <th>Exchange</th>\n    </tr>\n  </thead>\n  <tbody>\n    <tr>\n      <th>184440</th>\n      <td>2024-01-05 09:31:38.470460625</td>\n      <td>2024-01-05 09:31:38.470460625</td>\n      <td>NBFToExchange</td>\n      <td>ffca27ea-95a6-11ed-8b41-047c16291a22</td>\n      <td>NewOrderRequest</td>\n      <td>775GN</td>\n      <td>1.92</td>\n      <td>Exchange_1</td>\n    </tr>\n    <tr>\n      <th>184443</th>\n      <td>2024-01-05 09:31:38.470514774</td>\n      <td>2024-01-05 09:31:38.470514774</td>\n      <td>ExchangeToNBF</td>\n      <td>ffca27ea-95a6-11ed-8b41-047c16291a22</td>\n      <td>NewOrderAcknowledged</td>\n      <td>775GN</td>\n      <td>1.92</td>\n      <td>Exchange_1</td>\n    </tr>\n  </tbody>\n</table>\n</div>"
     },
     "execution_count": 13,
     "metadata": {},
     "output_type": "execute_result"
    }
   ],
   "source": [
    "df.loc[df['OrderID'] == 'ffca27ea-95a6-11ed-8b41-047c16291a22'] # 2\n"
   ],
   "metadata": {
    "collapsed": false,
    "ExecuteTime": {
     "end_time": "2024-01-20T18:09:16.668342Z",
     "start_time": "2024-01-20T18:09:16.651084Z"
    }
   },
   "id": "974b380b362eaaab",
   "execution_count": 13
  },
  {
   "cell_type": "code",
   "outputs": [
    {
     "data": {
      "text/plain": "                         TimeStamp                TimeStampEpoch  \\\n7460 2024-01-05 09:28:09.816721190 2024-01-05 09:28:09.816721190   \n7463 2024-01-05 09:28:09.816781110 2024-01-05 09:28:09.816781110   \n7525 2024-01-05 09:28:09.914391226 2024-01-05 09:28:09.914391226   \n7527 2024-01-05 09:28:09.914442536 2024-01-05 09:28:09.914442536   \n7529 2024-01-05 09:28:09.914448032 2024-01-05 09:28:09.914448032   \n\n          Direction                               OrderID  \\\n7460  NBFToExchange  ffa2c9f7-95a6-11ed-aa18-047c16291a22   \n7463  ExchangeToNBF  ffa2c9f7-95a6-11ed-aa18-047c16291a22   \n7525  NBFToExchange  ffa2c9f7-95a6-11ed-aa18-047c16291a22   \n7527  ExchangeToNBF  ffa2c9f7-95a6-11ed-aa18-047c16291a22   \n7529  ExchangeToNBF  ffa2c9f7-95a6-11ed-aa18-047c16291a22   \n\n               MessageType Symbol  OrderPrice    Exchange  \n7460       NewOrderRequest  RSHU1       36.47  Exchange_1  \n7463  NewOrderAcknowledged  RSHU1       36.47  Exchange_1  \n7525         CancelRequest  RSHU1         NaN  Exchange_1  \n7527    CancelAcknowledged  RSHU1         NaN  Exchange_1  \n7529             Cancelled  RSHU1         NaN  Exchange_1  ",
      "text/html": "<div>\n<style scoped>\n    .dataframe tbody tr th:only-of-type {\n        vertical-align: middle;\n    }\n\n    .dataframe tbody tr th {\n        vertical-align: top;\n    }\n\n    .dataframe thead th {\n        text-align: right;\n    }\n</style>\n<table border=\"1\" class=\"dataframe\">\n  <thead>\n    <tr style=\"text-align: right;\">\n      <th></th>\n      <th>TimeStamp</th>\n      <th>TimeStampEpoch</th>\n      <th>Direction</th>\n      <th>OrderID</th>\n      <th>MessageType</th>\n      <th>Symbol</th>\n      <th>OrderPrice</th>\n      <th>Exchange</th>\n    </tr>\n  </thead>\n  <tbody>\n    <tr>\n      <th>7460</th>\n      <td>2024-01-05 09:28:09.816721190</td>\n      <td>2024-01-05 09:28:09.816721190</td>\n      <td>NBFToExchange</td>\n      <td>ffa2c9f7-95a6-11ed-aa18-047c16291a22</td>\n      <td>NewOrderRequest</td>\n      <td>RSHU1</td>\n      <td>36.47</td>\n      <td>Exchange_1</td>\n    </tr>\n    <tr>\n      <th>7463</th>\n      <td>2024-01-05 09:28:09.816781110</td>\n      <td>2024-01-05 09:28:09.816781110</td>\n      <td>ExchangeToNBF</td>\n      <td>ffa2c9f7-95a6-11ed-aa18-047c16291a22</td>\n      <td>NewOrderAcknowledged</td>\n      <td>RSHU1</td>\n      <td>36.47</td>\n      <td>Exchange_1</td>\n    </tr>\n    <tr>\n      <th>7525</th>\n      <td>2024-01-05 09:28:09.914391226</td>\n      <td>2024-01-05 09:28:09.914391226</td>\n      <td>NBFToExchange</td>\n      <td>ffa2c9f7-95a6-11ed-aa18-047c16291a22</td>\n      <td>CancelRequest</td>\n      <td>RSHU1</td>\n      <td>NaN</td>\n      <td>Exchange_1</td>\n    </tr>\n    <tr>\n      <th>7527</th>\n      <td>2024-01-05 09:28:09.914442536</td>\n      <td>2024-01-05 09:28:09.914442536</td>\n      <td>ExchangeToNBF</td>\n      <td>ffa2c9f7-95a6-11ed-aa18-047c16291a22</td>\n      <td>CancelAcknowledged</td>\n      <td>RSHU1</td>\n      <td>NaN</td>\n      <td>Exchange_1</td>\n    </tr>\n    <tr>\n      <th>7529</th>\n      <td>2024-01-05 09:28:09.914448032</td>\n      <td>2024-01-05 09:28:09.914448032</td>\n      <td>ExchangeToNBF</td>\n      <td>ffa2c9f7-95a6-11ed-aa18-047c16291a22</td>\n      <td>Cancelled</td>\n      <td>RSHU1</td>\n      <td>NaN</td>\n      <td>Exchange_1</td>\n    </tr>\n  </tbody>\n</table>\n</div>"
     },
     "execution_count": 28,
     "metadata": {},
     "output_type": "execute_result"
    }
   ],
   "source": [
    "df.loc[df['OrderID'] == 'ffa2c9f7-95a6-11ed-aa18-047c16291a22'] "
   ],
   "metadata": {
    "collapsed": false,
    "ExecuteTime": {
     "end_time": "2024-01-20T23:55:20.970065Z",
     "start_time": "2024-01-20T23:55:20.791243Z"
    }
   },
   "id": "61e767da0bc0a538",
   "execution_count": 28
  },
  {
   "cell_type": "code",
   "outputs": [],
   "source": [],
   "metadata": {
    "collapsed": false,
    "ExecuteTime": {
     "end_time": "2024-01-21T00:02:44.362127Z",
     "start_time": "2024-01-21T00:02:44.342831Z"
    }
   },
   "id": "ce2346da5627b239",
   "execution_count": 31
  },
  {
   "cell_type": "code",
   "outputs": [],
   "source": [],
   "metadata": {
    "collapsed": false
   },
   "id": "d51da4d8ce7646b0"
  }
 ],
 "metadata": {
  "kernelspec": {
   "display_name": "Python 3",
   "language": "python",
   "name": "python3"
  },
  "language_info": {
   "codemirror_mode": {
    "name": "ipython",
    "version": 2
   },
   "file_extension": ".py",
   "mimetype": "text/x-python",
   "name": "python",
   "nbconvert_exporter": "python",
   "pygments_lexer": "ipython2",
   "version": "2.7.6"
  }
 },
 "nbformat": 4,
 "nbformat_minor": 5
}
